{
 "cells": [
  {
   "cell_type": "code",
   "execution_count": null,
   "id": "3878d3f7-94be-40aa-af58-30d8370d9f06",
   "metadata": {},
   "outputs": [],
   "source": [
    "import numpy as np\n",
    "import pandas as pd\n",
    "import os\n",
    "import cv2\n",
    "from sklearn.svm import SVC\n",
    "from sklearn.preprocessing import LabelEncoder\n",
    "from sklearn.model_selection import train_test_split\n",
    "from sklearn.metrics import accuracy_score\n",
    "from tensorflow.keras.applications import VGG16\n",
    "from tensorflow.keras.applications.vgg16 import preprocess_input\n",
    "from tensorflow.keras.preprocessing import image"
   ]
  },
  {
   "cell_type": "code",
   "execution_count": null,
   "id": "ad1691f0-989c-4822-a580-f286cefab884",
   "metadata": {},
   "outputs": [],
   "source": [
    "# Correct path to the VGG16 weights file in the Kaggle environment\n",
    "weights_path = '/kaggle/input/vgg16-w/vgg16_weights_tf_dim_ordering_tf_kernels_notop.h5'\n",
    "\n",
    "# Load VGG16 with the correct weights\n",
    "vgg_model = VGG16(weights=weights_path, include_top=False, pooling='avg')\n",
    "\n",
    "# Function to extract features using VGG16\n",
    "def extract_features(img_path, model, img_size=(224, 224)):\n",
    "    img = image.load_img(img_path, target_size=img_size)\n",
    "    img_array = image.img_to_array(img)\n",
    "    img_array = np.expand_dims(img_array, axis=0)\n",
    "    img_array = preprocess_input(img_array)  # Preprocess input for VGG16\n",
    "    features = model.predict(img_array)\n",
    "    return features.flatten()"
   ]
  },
  {
   "cell_type": "code",
   "execution_count": null,
   "id": "9c399888-77ac-4a00-af36-b25825be4c83",
   "metadata": {},
   "outputs": [],
   "source": [
    "# Function to load data and extract features using VGG16\n",
    "def load_and_extract_features(csv_path, images_folder, model):\n",
    "    data = pd.read_csv(csv_path)\n",
    "    features = []\n",
    "    labels = []\n",
    "    \n",
    "    for index, row in data.iterrows():\n",
    "        image_name = row['id_code']\n",
    "        label = row['diagnosis']\n",
    "        image_path = f\"{images_folder}/{image_name}.png\"\n",
    "        \n",
    "        # Extract features using pretrained model\n",
    "        feature = extract_features(image_path, model)\n",
    "        \n",
    "        features.append(feature)\n",
    "        labels.append(label)\n",
    "    \n",
    "    return np.array(features), np.array(labels)"
   ]
  },
  {
   "cell_type": "code",
   "execution_count": null,
   "id": "9630f77a-c83e-4894-98ad-7a81767bb4d1",
   "metadata": {},
   "outputs": [],
   "source": [
    "# Function to load test data and extract features\n",
    "def load_test_data_and_extract_features(csv_path, images_folder, model):\n",
    "    data = pd.read_csv(csv_path)\n",
    "    features = []\n",
    "    image_names = []\n",
    "    \n",
    "    for index, row in data.iterrows():\n",
    "        image_name = row['id_code']\n",
    "        image_path = f\"{images_folder}/{image_name}.png\"\n",
    "        \n",
    "        # Extract features using pretrained model\n",
    "        feature = extract_features(image_path, model)\n",
    "        \n",
    "        features.append(feature)\n",
    "        image_names.append(image_name)\n",
    "    \n",
    "    return np.array(features), image_names"
   ]
  },
  {
   "cell_type": "code",
   "execution_count": null,
   "id": "e93e1d3c-d9d7-4fda-93f6-cfec9a276b8e",
   "metadata": {},
   "outputs": [],
   "source": [
    "# Function to generate predictions and save them to CSV\n",
    "def predict_and_generate_csv(model, test_features, image_names, output_csv_path):\n",
    "    predictions = model.predict(test_features)\n",
    "    \n",
    "    # Create DataFrame to store image names and predictions\n",
    "    output_df = pd.DataFrame({\n",
    "        'id_code': image_names,\n",
    "        'diagnosis': predictions\n",
    "    })\n",
    "    \n",
    "    # Save to CSV\n",
    "    output_df.to_csv('submission.csv', index=False)\n",
    "    print(f\"Predictions saved to {output_csv_path}\")"
   ]
  },
  {
   "cell_type": "code",
   "execution_count": null,
   "id": "b51b2a1a-db31-4cb1-9767-77af4f603383",
   "metadata": {},
   "outputs": [],
   "source": [
    "# Main Program\n",
    "if __name__ == \"__main__\":\n",
    "    # Paths\n",
    "    train_csv_path = '/kaggle/input/aptos2019-blindness-detection/train.csv'  # CSV with image names and labels\n",
    "    train_images_folder = '/kaggle/input/aptos2019-blindness-detection/train_images'  # Folder with training images\n",
    "    test_csv_path = '/kaggle/input/aptos2019-blindness-detection/test.csv'  # CSV with test image names\n",
    "    test_images_folder = '/kaggle/input/aptos2019-blindness-detection/test_images'  # Folder with test images\n",
    "    output_csv_path = '/kaggle/input/aptos2019-blindness-detection/output_predictions.csv'  # Output CSV file for predictions\n",
    "    \n",
    "    # 1. Load and extract features from the training data\n",
    "    print(\"Loading and extracting features from training data...\")\n",
    "    X, y = load_and_extract_features(train_csv_path, train_images_folder, vgg_model)\n",
    "    \n",
    "    # 2. Encode labels to numeric values\n",
    "    label_encoder = LabelEncoder()\n",
    "    y_encoded = label_encoder.fit_transform(y)\n",
    "    \n",
    "    # 3. Split data into training and validation sets\n",
    "    X_train, X_val, y_train, y_val = train_test_split(X, y_encoded, test_size=0.2, random_state=42)\n",
    "    \n",
    "    ### SVM Classifier ###\n",
    "    print(\"Training SVM model...\")\n",
    "    svm_model = SVC(kernel='linear')  # Using a linear kernel for SVM\n",
    "    svm_model.fit(X_train, y_train)\n",
    "    \n",
    "    # Validate the model\n",
    "    y_val_pred = svm_model.predict(X_val)\n",
    "    accuracy_svm = accuracy_score(y_val, y_val_pred)\n",
    "    print(f\"SVM Validation Accuracy: {accuracy_svm * 100:.2f}%\")\n",
    "    \n",
    "    # 4. Load and extract features from the test data\n",
    "    print(\"Loading and extracting features from test data...\")\n",
    "    test_features, image_names = load_test_data_and_extract_features(test_csv_path, test_images_folder, vgg_model)\n",
    "    \n",
    "    # 5. Predict test labels and generate CSV output\n",
    "    print(\"Generating predictions and saving to CSV...\")\n",
    "    predict_and_generate_csv(svm_model, test_features, image_names, output_csv_path)"
   ]
  }
 ],
 "metadata": {
  "kernelspec": {
   "display_name": "Python 3 (ipykernel)",
   "language": "python",
   "name": "python3"
  },
  "language_info": {
   "codemirror_mode": {
    "name": "ipython",
    "version": 3
   },
   "file_extension": ".py",
   "mimetype": "text/x-python",
   "name": "python",
   "nbconvert_exporter": "python",
   "pygments_lexer": "ipython3",
   "version": "3.11.4"
  }
 },
 "nbformat": 4,
 "nbformat_minor": 5
}
